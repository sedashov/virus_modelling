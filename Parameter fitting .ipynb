{
 "cells": [
  {
   "cell_type": "code",
   "execution_count": 60,
   "metadata": {},
   "outputs": [],
   "source": [
    "# cases = [1, 1, 1, 1, 6, 6, 6, 9, 9, 15, 19, 24, 33, 33, 53, 56, 86, 98, 131, 137, 191, 262, 290, 410, 546, 703, 817, 1014, 1226, 1613, 1880, 2475, 2923, 3357, 3893, 4484, 5181, 5841, 6698, 7822, 8852, 10158, 11513, 13002, 14776, 16146, 18105, 20754, 24324, 26350, 29433, 31981, 33940, 36897, 39509, 42480, 45351, 48426, 50646, 53739, 57300, 62658, 68606, 74401, 80115, 85973, 92676, 98522]"
   ]
  },
  {
   "cell_type": "code",
   "execution_count": 139,
   "metadata": {},
   "outputs": [],
   "source": [
    "# importing required modules\n",
    "\n",
    "import numpy as np\n",
    "import matplotlib.pyplot as plt\n",
    "from scipy.integrate import odeint\n",
    "\n",
    "# setting plot parameters\n",
    "\n",
    "plt.ion()\n",
    "plt.rcParams['figure.figsize'] = 10, 8"
   ]
  },
  {
   "cell_type": "code",
   "execution_count": 140,
   "metadata": {},
   "outputs": [],
   "source": [
    "# setting known disease parameters\n",
    "\n",
    "sigma = 5.1 # mean incubation period\n",
    "eta = 3.5 # avg time between symptoms and hospitalization\n",
    "delta = 14.68 # avg time between hospitalization and death\n",
    "gamma = 11.36 # avg curation time (with symptoms)\n",
    "lmbda = 11.36 # avg curation time (no symptoms)\n",
    "mu = 0.88 # amount of non-symptom cases\n",
    "xi = 3 # mean time between end of incub. period and detection of a virus"
   ]
  },
  {
   "cell_type": "markdown",
   "metadata": {},
   "source": [
    "На данный момент неизвестны два параметра:\n",
    "\n",
    "\n",
    "1) $\\beta$ — infection rate\n",
    "\n",
    "\n",
    "2) $\\rho$ — mortality rate\n",
    "\n",
    "Предлагается разбить наблюдаемый период на группы. \n",
    "\n",
    "Будем считать, что 24.02.2020\n",
    "в Москве появился первый заболевший $\\in \\text { } Infectious$\n",
    "\n",
    "(27.02 он обратился за мед. помощью, среднее время\n",
    "от конца инкуб. периода до выявления вируса = 3 дня)\n",
    "\n",
    "Таким образом, наблюдается период с 24.02 до 8.05. \n",
    "\n",
    "31.03 в Москве была введена самоизоляция, это одна из ключевых дат. \n",
    "\n",
    "Так, период разбивается на два: с 24.02 до 30.03 и с 31.03 до 8.05.\n",
    "\n",
    "Первый период разобьём на 5 семидневных промежутков.\n",
    "\n",
    "Второй период разобьём также на 5 недельных промежутков (таким образом, последний закончится 5 мая)\n",
    "\n",
    "Для каждого из промежутков при помощи метода наименьших квадратов аппроксимируем $\\beta \\text{ и } \\rho$\n",
    "\n",
    "Далее построим для каждого из параметров линейную регрессию, и с полученными значениями $\\beta \\text{ и } \\rho$ дадим прогноз на период 6-12.05"
   ]
  },
  {
   "cell_type": "markdown",
   "metadata": {},
   "source": [
    "Первые две недели посчитаем вместе, потому что там было маленькое количество тестов. Если фиттить по неделям, есть шанс получить beta = 0 в самом начале (и, соответственно, вымирание эпидемии, что не произошло)"
   ]
  },
  {
   "cell_type": "code",
   "execution_count": 150,
   "metadata": {},
   "outputs": [],
   "source": [
    "# defining the system of ODE \n",
    "\n",
    "def f(y, t, beta, rho):\n",
    "    Xi = y[0] # susceptible\n",
    "    Vi = y[1] # exposed\n",
    "    Qi = y[2] # infectious\n",
    "    Wi = y[3] # non-symptomatical\n",
    "    Yi = y[4] # symptomatical (non-hospitalized)\n",
    "    Ui = y[5] # hospitalized\n",
    "    Zi = y[6] # removed\n",
    "    Di = y[7] # dead\n",
    "    f0 = -beta * Xi * Qi / N\n",
    "    f1 = beta * Xi * Qi / N - (1 / sigma) * Vi\n",
    "    f2 = (1 / sigma) * Vi - (1 / xi) * Qi\n",
    "    f3 = (1 / xi) * mu * Qi - (1 / lmbda) * Wi\n",
    "    f4 = (1 / xi) * (1 - mu) * Qi - 0.87 * (1 / gamma) * Yi - 0.13 * (1 / eta) * Yi\n",
    "    f5 = 0.13 * (1 / eta) * Yi - (1 / gamma) * Ui / (1 - rho)\n",
    "    f6 = (1 / lmbda) * Wi + 0.87 * (1 / gamma) * Yi + (1 / gamma) * Ui\n",
    "    f7 = rho / (1 - rho) * Ui\n",
    "    return [f0, f1, f2, f3, f4, f5, f6, f7]\n",
    "\n",
    "\n",
    "# implementing error func\n",
    "# cases is a 1D-array containing info about reported cases during the period\n",
    "# inp is a 1-D array containing initial state of the system\n",
    "from functools import partial\n",
    "\n",
    "def error_1stp(b, r, cases, inp):\n",
    "    err = 0\n",
    "    t = np.linspace(0, 13, 490 * 2)\n",
    "    f2 = partial(f, beta=b, rho=r)\n",
    "    soln = odeint(f2, inp, t)\n",
    "    W = soln[:, 3]\n",
    "    Y = soln[:, 4]\n",
    "    U = soln[:, 5]\n",
    "    Z = soln[:, 6]\n",
    "    for i in range(1, 15):\n",
    "        forecast_cases = W[i * 70 - 1] + Y[i * 70 - 1] + U[i * 70 - 1] + Z[i * 70 - 1]\n",
    "        to_sum = (forecast_cases - cases[i - 1]) ** 2\n",
    "        err += to_sum\n",
    "    return err\n",
    "\n",
    "def error(b, r, cases, inp):\n",
    "    err = 0\n",
    "    t = np.linspace(0, 6, 490)\n",
    "    f2 = partial(f, beta=b, rho=r)\n",
    "    soln = odeint(f2, inp, t)\n",
    "    W = soln[:, 3]\n",
    "    Y = soln[:, 4]\n",
    "    U = soln[:, 5]\n",
    "    Z = soln[:, 6]\n",
    "    for i in range(1, 8):\n",
    "        forecast_cases = W[i * 70 - 1] + Y[i * 70 - 1] + U[i * 70 - 1] + Z[i * 70 - 1]\n",
    "        to_sum = (forecast_cases - cases[i - 1]) ** 2\n",
    "        err += to_sum\n",
    "    return err"
   ]
  },
  {
   "cell_type": "markdown",
   "metadata": {},
   "source": [
    "Запустим перебор по значениям $\\beta \\text{ и } \\rho$ с шагом 0.01\n",
    "\n",
    "Будем считать, что $\\beta \\in [0.4, 1.5]; \\rho \\in [0.5, 1]$"
   ]
  },
  {
   "cell_type": "code",
   "execution_count": 168,
   "metadata": {},
   "outputs": [],
   "source": [
    "def fit_beta_1stp(week, inp):\n",
    "\n",
    "    best_beta = 0\n",
    "    best_error = 10e6\n",
    "    for i in range(40, 400):\n",
    "        beta = i / 100\n",
    "        current_beta_error= error_1stp(beta, 0.8, cases[week * 7:(week+2)*7], inp)\n",
    "        if current_beta_error < best_error:\n",
    "            best_beta = beta\n",
    "            best_error = current_beta_error\n",
    "    return best_beta, best_error\n",
    "\n",
    "\n",
    "def fit_beta(week, inp):\n",
    "\n",
    "    best_beta = 0\n",
    "    best_error = 10e6\n",
    "    for i in range(40, 400):\n",
    "        beta = i / 100\n",
    "        current_beta_error= error(beta, 0.8, cases[week * 7:(week+1)*7], inp)\n",
    "        if current_beta_error < best_error:\n",
    "            best_beta = beta\n",
    "            best_error = current_beta_error\n",
    "    return best_beta, best_error"
   ]
  },
  {
   "cell_type": "code",
   "execution_count": 182,
   "metadata": {},
   "outputs": [
    {
     "name": "stdout",
     "output_type": "stream",
     "text": [
      "0.82\n"
     ]
    }
   ],
   "source": [
    "N = 12537954 # moscow population \n",
    "X_0 = N - 1\n",
    "V_0 = 0\n",
    "Q_0 = 1\n",
    "W_0 = 0\n",
    "Y_0 = 0\n",
    "U_0 = 0\n",
    "Z_0 = 0\n",
    "D_0 = 0\n",
    "y0 = [X_0, V_0, Q_0, W_0, Y_0, U_0, Z_0, D_0]\n",
    "x, err = fit_beta_1stp(0, y0)\n",
    "print(x)"
   ]
  },
  {
   "cell_type": "code",
   "execution_count": 183,
   "metadata": {},
   "outputs": [
    {
     "name": "stdout",
     "output_type": "stream",
     "text": [
      "Step number 1: beta = 0.82, error = 27.387040146043972\n",
      "\n",
      "Step number 2: beta = 3.49, error = 214.7195272904078\n",
      "\n",
      "Step number 3: beta = 0.2, error = 9794.572927843734\n",
      "\n",
      "Step number 4: beta = 3.03, error = 42202.933523594125\n",
      "\n"
     ]
    }
   ],
   "source": [
    "betas = list()\n",
    "for i in range(4):\n",
    "    if i == 0:\n",
    "        x, err = fit_beta_1stp(0, y0)\n",
    "        t = np.linspace(0, 13, 490 * 2)\n",
    "        soln = odeint(partial(f, beta=x, rho=0.8), y0, t)\n",
    "        y0 = [soln[:, 0][979], soln[:, 1][979], soln[:, 2][979], soln[:, 3][979], soln[:, 4][979], soln[:, 5][979], soln[:, 6][979], soln[:, 7][979]]\n",
    "        betas.append(x)\n",
    "    else:\n",
    "        x, err = fit_beta(i + 1, y0)\n",
    "        t = np.linspace(0, 6, 490 * 2)\n",
    "        soln = odeint(partial(f, beta=x, rho=0.8), y0, t)\n",
    "        y0 = [soln[:, 0][979], soln[:, 1][979], soln[:, 2][979], soln[:, 3][979], soln[:, 4][979], soln[:, 5][979], soln[:, 6][979], soln[:, 7][979]]\n",
    "        betas.append(x)\n",
    "    print(\"Step number {}: beta = {}, error = {}\\n\".format(i + 1, x, err))"
   ]
  },
  {
   "cell_type": "markdown",
   "metadata": {},
   "source": [
    "Какая-то неадекватная хуйня. Я устал, завтра разберусь"
   ]
  },
  {
   "cell_type": "code",
   "execution_count": null,
   "metadata": {},
   "outputs": [],
   "source": []
  },
  {
   "cell_type": "code",
   "execution_count": null,
   "metadata": {},
   "outputs": [],
   "source": []
  },
  {
   "cell_type": "code",
   "execution_count": null,
   "metadata": {},
   "outputs": [],
   "source": []
  },
  {
   "cell_type": "code",
   "execution_count": null,
   "metadata": {},
   "outputs": [],
   "source": []
  },
  {
   "cell_type": "code",
   "execution_count": null,
   "metadata": {},
   "outputs": [],
   "source": []
  },
  {
   "cell_type": "code",
   "execution_count": null,
   "metadata": {},
   "outputs": [],
   "source": []
  },
  {
   "cell_type": "code",
   "execution_count": null,
   "metadata": {},
   "outputs": [],
   "source": []
  },
  {
   "cell_type": "code",
   "execution_count": null,
   "metadata": {},
   "outputs": [],
   "source": []
  },
  {
   "cell_type": "code",
   "execution_count": null,
   "metadata": {},
   "outputs": [],
   "source": []
  },
  {
   "cell_type": "code",
   "execution_count": null,
   "metadata": {},
   "outputs": [],
   "source": []
  },
  {
   "cell_type": "code",
   "execution_count": null,
   "metadata": {},
   "outputs": [],
   "source": []
  },
  {
   "cell_type": "code",
   "execution_count": 176,
   "metadata": {},
   "outputs": [
    {
     "data": {
      "image/png": "[encoded data removed]",
      "text/plain": [
       "<Figure size 720x576 with 1 Axes>"
      ]
     },
     "metadata": {
      "needs_background": "light"
     },
     "output_type": "display_data"
    }
   ],
   "source": [
    "def f_graph(y, t):\n",
    "    if t <= 13:\n",
    "        beta = 0.82\n",
    "    elif t <= 20:\n",
    "        beta = 3.49\n",
    "    elif t <= 27:\n",
    "        beta = 0.2\n",
    "    else:\n",
    "        beta = 3.03\n",
    "    rho = 0.4\n",
    "    Xi = y[0] # susceptible\n",
    "    Vi = y[1] # exposed\n",
    "    Qi = y[2] # infectious\n",
    "    Wi = y[3] # non-symptomatical\n",
    "    Yi = y[4] # symptomatical (non-hospitalized)\n",
    "    Ui = y[5] # hospitalized\n",
    "    Zi = y[6] # removed\n",
    "    Di = y[7] # dead\n",
    "    f0 = -beta * Xi * Qi / N\n",
    "    f1 = beta * Xi * Qi / N - (1 / sigma) * Vi\n",
    "    f2 = (1 / sigma) * Vi - (1 / xi) * Qi\n",
    "    f3 = (1 / xi) * mu * Qi - (1 / lmbda) * Wi\n",
    "    f4 = (1 / xi) * (1 - mu) * Qi - 0.87 * (1 / gamma) * Yi - 0.13 * (1 / eta) * Yi\n",
    "    f5 = 0.13 * (1 / eta) * Yi - (1 / gamma) * Ui / (1 - rho)\n",
    "    f6 = (1 / lmbda) * Wi + 0.87 * (1 / gamma) * Yi + (1 / gamma) * Ui\n",
    "    f7 = rho / (1 - rho) * Ui\n",
    "    return [f0, f1, f2, f3, f4, f5, f6, f7]\n",
    "t = np.linspace(0, 34, 490 * 5)\n",
    "soln = odeint(f_graph, y0, t)\n",
    "X = soln[:, 0]\n",
    "V = soln[:, 1]\n",
    "Q = soln[:, 2]\n",
    "W = soln[:, 3]\n",
    "Y = soln[:, 4]\n",
    "U = soln[:, 5]\n",
    "Z = soln[:, 6]\n",
    "D = soln[:, 7]\n",
    "plt.plot(t, W + Y + U + Z, label='reported cases (forecast)')\n",
    "plt.xlabel('days')\n",
    "plt.ylabel('cases')\n",
    "plt.legend(loc=0)\n",
    "for i in range(35):\n",
    "    plt.scatter(i, cases[i], color='red')"
   ]
  },
  {
   "cell_type": "code",
   "execution_count": null,
   "metadata": {},
   "outputs": [],
   "source": []
  },
  {
   "cell_type": "code",
   "execution_count": null,
   "metadata": {},
   "outputs": [],
   "source": []
  },
  {
   "cell_type": "code",
   "execution_count": null,
   "metadata": {},
   "outputs": [],
   "source": []
  },
  {
   "cell_type": "code",
   "execution_count": null,
   "metadata": {},
   "outputs": [],
   "source": []
  },
  {
   "cell_type": "code",
   "execution_count": null,
   "metadata": {},
   "outputs": [],
   "source": []
  }
 ],
 "metadata": {
  "kernelspec": {
   "display_name": "Python 3",
   "language": "python",
   "name": "python3"
  },
  "language_info": {
   "codemirror_mode": {
    "name": "ipython",
    "version": 3
   },
   "file_extension": ".py",
   "mimetype": "text/x-python",
   "name": "python",
   "nbconvert_exporter": "python",
   "pygments_lexer": "ipython3",
   "version": "3.7.2"
  }
 },
 "nbformat": 4,
 "nbformat_minor": 2
}
