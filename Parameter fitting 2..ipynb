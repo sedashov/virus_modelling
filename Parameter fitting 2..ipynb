{
 "cells": [
  {
   "cell_type": "code",
   "execution_count": 7,
   "metadata": {},
   "outputs": [],
   "source": [
    "cases = [0, 0, 0, 0, 0, 0, 0, 1, 1, 1, 1, 6, 6, 6, 9, 9, 15, 19, 24, 33, 33, 53, 56, 86, 98, 131, 137, 191, 262, 290, 410, 546, 703, 817, 1014, 1226, 1613, 1880, 2475, 2923, 3357, 3893, 4484, 5181, 5841, 6698, 7822, 8852, 10158, 11513, 13002, 14776, 16146, 18105, 20754, 24324, 26350, 29433, 31981, 33940, 36897, 39509, 42480, 45351, 48426, 50646, 53739, 57300, 62658, 68606, 74401, 80115, 85973, 92676, 98522]"
   ]
  },
  {
   "cell_type": "code",
   "execution_count": 8,
   "metadata": {},
   "outputs": [],
   "source": [
    "# importing required modules\n",
    "\n",
    "import numpy as np\n",
    "import matplotlib.pyplot as plt\n",
    "from scipy.integrate import odeint\n",
    "\n",
    "# setting plot parameters\n",
    "\n",
    "plt.ion()\n",
    "plt.rcParams['figure.figsize'] = 10, 8"
   ]
  },
  {
   "cell_type": "code",
   "execution_count": 187,
   "metadata": {},
   "outputs": [],
   "source": [
    "# setting known disease parameters\n",
    "\n",
    "sigma = 5.1 # mean incubation period\n",
    "eta = 3.5 # avg time between symptoms and hospitalization\n",
    "delta = 14.68 # avg time between hospitalization and death\n",
    "gamma = 11.36 # avg curation time (with symptoms)\n",
    "lmbda = 11.36 # avg curation time (no symptoms)\n",
    "mu = 0.88 # amount of non-symptom cases\n",
    "xi = 3 # mean time between end of incub. period and detection of a virus"
   ]
  },
  {
   "cell_type": "markdown",
   "metadata": {},
   "source": [
    "На данный момент неизвестны два параметра:\n",
    "\n",
    "\n",
    "1) $\\beta$ — infection rate\n",
    "\n",
    "\n",
    "2) $\\rho$ — mortality rate\n",
    "\n",
    "Предлагается разбить наблюдаемый период на группы. \n",
    "\n",
    "Будем считать, что 24.02.2020\n",
    "в Москве появился первый заболевший $\\in \\text { } Infectious$\n",
    "\n",
    "(27.02 он обратился за мед. помощью, среднее время\n",
    "от конца инкуб. периода до выявления вируса = 3 дня)\n",
    "\n",
    "Таким образом, наблюдается период с 24.02 до 8.05. \n",
    "\n",
    "31.03 в Москве была введена самоизоляция, это одна из ключевых дат. \n",
    "\n",
    "Так, период разбивается на два: с 24.02 до 30.03 и с 31.03 до 8.05.\n",
    "\n",
    "Первый период разобьём на 2 2.5-недельных промежутка.\n",
    "\n",
    "Второй период разобьём также на 2 2-недельных промежутка (таким образом, последний закончится 5 мая)\n",
    "\n",
    "Для каждого из промежутков при помощи метода наименьших квадратов аппроксимируем $\\beta \\text{ и } \\rho$\n",
    "\n",
    "Далее построим для каждого из параметров линейную регрессию, и с полученными значениями $\\beta \\text{ и } \\rho$ дадим прогноз на период начиная с 6-ого марта"
   ]
  },
  {
   "cell_type": "markdown",
   "metadata": {},
   "source": [
    "Первые две недели посчитаем вместе, потому что там было маленькое количество тестов. Если фиттить по неделям, есть шанс получить beta = 0 в самом начале (и, соответственно, вымирание эпидемии, что не произошло)"
   ]
  },
  {
   "cell_type": "code",
   "execution_count": 138,
   "metadata": {},
   "outputs": [],
   "source": [
    "# defining the system of ODE \n",
    "\n",
    "def f(y, t, beta, rho):\n",
    "    Xi = y[0] # susceptible\n",
    "    Vi = y[1] # exposed\n",
    "    Qi = y[2] # infectious\n",
    "    Wi = y[3] # non-symptomatical\n",
    "    Yi = y[4] # symptomatical (non-hospitalized)\n",
    "    Ui = y[5] # hospitalized\n",
    "    Zi = y[6] # removed\n",
    "    Di = y[7] # dead\n",
    "    f0 = -beta * Xi * Qi / N\n",
    "    f1 = beta * Xi * Qi / N - (1 / sigma) * Vi\n",
    "    f2 = (1 / sigma) * Vi - (1 / xi) * Qi\n",
    "    f3 = (1 / xi) * mu * Qi - (1 / lmbda) * Wi\n",
    "    f4 = (1 / xi) * (1 - mu) * Qi - 0.87 * (1 / gamma) * Yi - 0.13 * (1 / eta) * Yi\n",
    "    f5 = 0.13 * (1 / eta) * Yi - (1 / gamma) * Ui / (1 - rho)\n",
    "    f6 = (1 / lmbda) * Wi + 0.87 * (1 / gamma) * Yi + (1 / gamma) * Ui\n",
    "    f7 = rho / (1 - rho) * Ui\n",
    "    return [f0, f1, f2, f3, f4, f5, f6, f7]\n",
    "\n",
    "\n",
    "# implementing error func\n",
    "# cases is a 1D-array containing info about reported cases during the period\n",
    "# inp is a 1-D array containing initial state of the system\n",
    "from functools import partial\n",
    "\n",
    "def error(b, r, cases, inp):\n",
    "    err = 0\n",
    "    t = np.linspace(0, 16, 70 * 16)\n",
    "    f2 = partial(f, beta=b, rho=r)\n",
    "    soln = odeint(f2, inp, t)\n",
    "    W = soln[:, 3]\n",
    "    Y = soln[:, 4]\n",
    "    U = soln[:, 5]\n",
    "    Z = soln[:, 6]\n",
    "    for i in range(1, 17):\n",
    "        forecast_cases = W[i * 70 - 1] + Y[i * 70 - 1] + U[i * 70 - 1] + Z[i * 70 - 1]\n",
    "        to_sum = (forecast_cases - cases[i - 1]) ** 2\n",
    "        err += to_sum\n",
    "    return err"
   ]
  },
  {
   "cell_type": "markdown",
   "metadata": {},
   "source": [
    "Запустим перебор по значениям $\\beta \\text{ и } \\rho$ с шагом 0.01\n",
    "\n",
    "Будем считать, что $\\beta \\in [0.4, 1.5]; \\rho \\in [0.5, 1]$"
   ]
  },
  {
   "cell_type": "code",
   "execution_count": 33,
   "metadata": {},
   "outputs": [],
   "source": [
    "def fit_beta(week, inp):\n",
    "\n",
    "    best_beta = 0\n",
    "    best_error = 10e6\n",
    "    for i in range(40, 400):\n",
    "        beta = i / 100\n",
    "        current_beta_error= error(beta, 0.8, cases[int(week * 7):int(week*7) + 17], inp)\n",
    "        if current_beta_error < best_error:\n",
    "            best_beta = beta\n",
    "            best_error = current_beta_error\n",
    "    return best_beta, best_error"
   ]
  },
  {
   "cell_type": "code",
   "execution_count": 34,
   "metadata": {},
   "outputs": [
    {
     "name": "stdout",
     "output_type": "stream",
     "text": [
      "0.82 33.66392424765252\n"
     ]
    }
   ],
   "source": [
    "N = 12537954 # moscow population \n",
    "X_0 = N - 1\n",
    "V_0 = 0\n",
    "Q_0 = 1\n",
    "W_0 = 0\n",
    "Y_0 = 0\n",
    "U_0 = 0\n",
    "Z_0 = 0\n",
    "D_0 = 0\n",
    "y0 = [X_0, V_0, Q_0, W_0, Y_0, U_0, Z_0, D_0]\n",
    "x, err = fit_beta(0, y0)\n",
    "print(x, err)"
   ]
  },
  {
   "cell_type": "code",
   "execution_count": 35,
   "metadata": {},
   "outputs": [],
   "source": [
    "t = np.linspace(0, 16, 70 * 16)\n",
    "f2 = partial(f, beta=0.82, rho=0.8)\n",
    "soln = odeint(f2, y0, t)"
   ]
  },
  {
   "cell_type": "code",
   "execution_count": 36,
   "metadata": {},
   "outputs": [
    {
     "data": {
      "image/png": "[encoded data removed]",
      "text/plain": [
       "<Figure size 720x576 with 1 Axes>"
      ]
     },
     "metadata": {
      "needs_background": "light"
     },
     "output_type": "display_data"
    }
   ],
   "source": [
    "X_1 = soln[:, 0]\n",
    "V_1 = soln[:, 1]\n",
    "Q_1 = soln[:, 2]\n",
    "W_1 = soln[:, 3]\n",
    "Y_1 = soln[:, 4]\n",
    "U_1 = soln[:, 5]\n",
    "Z_1 = soln[:, 6]\n",
    "D_1 = soln[:, 7]\n",
    "plt.plot(t, W_1 + Y_1 + U_1 + Z_1, label='reported cases (forecast)')\n",
    "plt.xlabel('days')\n",
    "plt.ylabel('cases')\n",
    "plt.legend(loc=0)\n",
    "for i in range(17):\n",
    "    plt.scatter(i, cases[i], color='red')"
   ]
  },
  {
   "cell_type": "code",
   "execution_count": 37,
   "metadata": {},
   "outputs": [
    {
     "name": "stdout",
     "output_type": "stream",
     "text": [
      "1.83 20123.03629773521\n"
     ]
    }
   ],
   "source": [
    "y1 = [X_1[70*16-1], V_1[70*16-1], Q_1[70*16-1], W_1[70*16-1], Y_1[70*16-1], U_1[70*16-1], Z_1[70*16-1], D_1[70*16-1]]\n",
    "x2, err2 = fit_beta(17/7, y1)\n",
    "print(x2, err2)"
   ]
  },
  {
   "cell_type": "code",
   "execution_count": 41,
   "metadata": {},
   "outputs": [
    {
     "data": {
      "image/png": "[encoded data removed]",
      "text/plain": [
       "<Figure size 720x576 with 1 Axes>"
      ]
     },
     "metadata": {
      "needs_background": "light"
     },
     "output_type": "display_data"
    }
   ],
   "source": [
    "t = np.linspace(17, 33, 70 * 16)\n",
    "f2 = partial(f, beta=1.83, rho=0.8)\n",
    "soln2 = odeint(f2, y1, t)\n",
    "X_2 = soln2[:, 0]\n",
    "V_2 = soln2[:, 1]\n",
    "Q_2 = soln2[:, 2]\n",
    "W_2 = soln2[:, 3]\n",
    "Y_2 = soln2[:, 4]\n",
    "U_2 = soln2[:, 5]\n",
    "Z_2 = soln2[:, 6]\n",
    "D_2 = soln2[:, 7]\n",
    "plt.plot(t, W_2 + Y_2 + U_2 + Z_2, label='reported cases (forecast)')\n",
    "plt.xlabel('days')\n",
    "plt.ylabel('cases')\n",
    "plt.legend(loc=0)\n",
    "for i in range(17, 33):\n",
    "    plt.scatter(i, cases[i], color='red')"
   ]
  },
  {
   "cell_type": "code",
   "execution_count": 44,
   "metadata": {},
   "outputs": [
    {
     "name": "stdout",
     "output_type": "stream",
     "text": [
      "0.55 2112120.2966092834\n"
     ]
    }
   ],
   "source": [
    "y2 = [X_2[70*16-1], V_2[70*16-1], Q_2[70*16-1], W_2[70*16-1], Y_2[70*16-1], U_2[70*16-1], Z_2[70*16-1], D_2[70*16-1]]\n",
    "x2, err2 = fit_beta(34/7, y2)\n",
    "print(x2, err2)"
   ]
  },
  {
   "cell_type": "code",
   "execution_count": 46,
   "metadata": {},
   "outputs": [
    {
     "data": {
      "image/png": "[encoded data removed]",
      "text/plain": [
       "<Figure size 720x576 with 1 Axes>"
      ]
     },
     "metadata": {
      "needs_background": "light"
     },
     "output_type": "display_data"
    }
   ],
   "source": [
    "t = np.linspace(34, 50, 70 * 16)\n",
    "f2 = partial(f, beta=0.55, rho=0.8)\n",
    "soln3 = odeint(f2, y2, t)\n",
    "X_3 = soln3[:, 0]\n",
    "V_3 = soln3[:, 1]\n",
    "Q_3 = soln3[:, 2]\n",
    "W_3 = soln3[:, 3]\n",
    "Y_3 = soln3[:, 4]\n",
    "U_3 = soln3[:, 5]\n",
    "Z_3 = soln3[:, 6]\n",
    "D_3 = soln3[:, 7]\n",
    "plt.plot(t, W_3 + Y_3 + U_3 + Z_3, label='reported cases (forecast)')\n",
    "plt.xlabel('days')\n",
    "plt.ylabel('cases')\n",
    "plt.legend(loc=0)\n",
    "for i in range(34, 50):\n",
    "    plt.scatter(i, cases[i], color='red')"
   ]
  },
  {
   "cell_type": "code",
   "execution_count": null,
   "metadata": {},
   "outputs": [],
   "source": []
  },
  {
   "cell_type": "code",
   "execution_count": null,
   "metadata": {},
   "outputs": [],
   "source": []
  },
  {
   "cell_type": "code",
   "execution_count": null,
   "metadata": {},
   "outputs": [],
   "source": []
  },
  {
   "cell_type": "code",
   "execution_count": null,
   "metadata": {},
   "outputs": [],
   "source": []
  },
  {
   "cell_type": "code",
   "execution_count": null,
   "metadata": {},
   "outputs": [],
   "source": []
  },
  {
   "cell_type": "code",
   "execution_count": 183,
   "metadata": {},
   "outputs": [
    {
     "name": "stdout",
     "output_type": "stream",
     "text": [
      "Step number 1: beta = 0.82, error = 27.387040146043972\n",
      "\n",
      "Step number 2: beta = 3.49, error = 214.7195272904078\n",
      "\n",
      "Step number 3: beta = 0.2, error = 9794.572927843734\n",
      "\n",
      "Step number 4: beta = 3.03, error = 42202.933523594125\n",
      "\n"
     ]
    }
   ],
   "source": [
    "betas = list()\n",
    "for i in range(4):\n",
    "    if i == 0:\n",
    "        x, err = fit_beta_1stp(0, y0)\n",
    "        t = np.linspace(0, 13, 490 * 2)\n",
    "        soln = odeint(partial(f, beta=x, rho=0.8), y0, t)\n",
    "        y0 = [soln[:, 0][979], soln[:, 1][979], soln[:, 2][979], soln[:, 3][979], soln[:, 4][979], soln[:, 5][979], soln[:, 6][979], soln[:, 7][979]]\n",
    "        betas.append(x)\n",
    "    else:\n",
    "        x, err = fit_beta(i + 1, y0)\n",
    "        t = np.linspace(0, 6, 490 * 2)\n",
    "        soln = odeint(partial(f, beta=x, rho=0.8), y0, t)\n",
    "        y0 = [soln[:, 0][979], soln[:, 1][979], soln[:, 2][979], soln[:, 3][979], soln[:, 4][979], soln[:, 5][979], soln[:, 6][979], soln[:, 7][979]]\n",
    "        betas.append(x)\n",
    "    print(\"Step number {}: beta = {}, error = {}\\n\".format(i + 1, x, err))"
   ]
  },
  {
   "cell_type": "markdown",
   "metadata": {},
   "source": [
    "Какая-то неадекватная хуйня. Я устал, завтра разберусь"
   ]
  },
  {
   "cell_type": "code",
   "execution_count": null,
   "metadata": {},
   "outputs": [],
   "source": []
  },
  {
   "cell_type": "code",
   "execution_count": null,
   "metadata": {},
   "outputs": [],
   "source": []
  },
  {
   "cell_type": "code",
   "execution_count": null,
   "metadata": {},
   "outputs": [],
   "source": []
  },
  {
   "cell_type": "code",
   "execution_count": null,
   "metadata": {},
   "outputs": [],
   "source": []
  },
  {
   "cell_type": "code",
   "execution_count": null,
   "metadata": {},
   "outputs": [],
   "source": []
  },
  {
   "cell_type": "code",
   "execution_count": null,
   "metadata": {},
   "outputs": [],
   "source": []
  },
  {
   "cell_type": "code",
   "execution_count": null,
   "metadata": {},
   "outputs": [],
   "source": []
  },
  {
   "cell_type": "code",
   "execution_count": null,
   "metadata": {},
   "outputs": [],
   "source": []
  },
  {
   "cell_type": "code",
   "execution_count": null,
   "metadata": {},
   "outputs": [],
   "source": []
  },
  {
   "cell_type": "code",
   "execution_count": null,
   "metadata": {},
   "outputs": [],
   "source": []
  },
  {
   "cell_type": "code",
   "execution_count": null,
   "metadata": {},
   "outputs": [],
   "source": []
  },
  {
   "cell_type": "code",
   "execution_count": 53,
   "metadata": {},
   "outputs": [
    {
     "data": {
      "image/png": "[encoded data removed]",
      "text/plain": [
       "<Figure size 720x576 with 1 Axes>"
      ]
     },
     "metadata": {
      "needs_background": "light"
     },
     "output_type": "display_data"
    }
   ],
   "source": [
    "def f_graph(y, t):\n",
    "    if t <= 16:\n",
    "        beta = 0.82\n",
    "    elif t <= 33:\n",
    "        beta = 1.83\n",
    "    else:\n",
    "        beta = 0.55\n",
    "    rho = 0.4\n",
    "    Xi = y[0] # susceptible\n",
    "    Vi = y[1] # exposed\n",
    "    Qi = y[2] # infectious\n",
    "    Wi = y[3] # non-symptomatical\n",
    "    Yi = y[4] # symptomatical (non-hospitalized)\n",
    "    Ui = y[5] # hospitalized\n",
    "    Zi = y[6] # removed\n",
    "    Di = y[7] # dead\n",
    "    f0 = -beta * Xi * Qi / N\n",
    "    f1 = beta * Xi * Qi / N - (1 / sigma) * Vi\n",
    "    f2 = (1 / sigma) * Vi - (1 / xi) * Qi\n",
    "    f3 = (1 / xi) * mu * Qi - (1 / lmbda) * Wi\n",
    "    f4 = (1 / xi) * (1 - mu) * Qi - 0.87 * (1 / gamma) * Yi - 0.13 * (1 / eta) * Yi\n",
    "    f5 = 0.13 * (1 / eta) * Yi - (1 / gamma) * Ui / (1 - rho)\n",
    "    f6 = (1 / lmbda) * Wi + 0.87 * (1 / gamma) * Yi + (1 / gamma) * Ui\n",
    "    f7 = rho / (1 - rho) * Ui\n",
    "    return [f0, f1, f2, f3, f4, f5, f6, f7]\n",
    "t = np.linspace(0, 51, 490 * 5)\n",
    "soln = odeint(f_graph, y0, t)\n",
    "X = soln[:, 0]\n",
    "V = soln[:, 1]\n",
    "Q = soln[:, 2]\n",
    "W = soln[:, 3]\n",
    "Y = soln[:, 4]\n",
    "U = soln[:, 5]\n",
    "Z = soln[:, 6]\n",
    "D = soln[:, 7]\n",
    "plt.plot(t, W + Y + U + Z, label='reported cases (forecast)')\n",
    "plt.xlabel('days')\n",
    "plt.ylabel('cases')\n",
    "plt.legend(loc=0)\n",
    "for i in range(51):\n",
    "    plt.scatter(i, cases[i], color='red')\n",
    "plt.grid(True)"
   ]
  },
  {
   "cell_type": "code",
   "execution_count": null,
   "metadata": {},
   "outputs": [],
   "source": []
  },
  {
   "cell_type": "code",
   "execution_count": null,
   "metadata": {},
   "outputs": [],
   "source": []
  },
  {
   "cell_type": "code",
   "execution_count": null,
   "metadata": {},
   "outputs": [],
   "source": []
  },
  {
   "cell_type": "code",
   "execution_count": 54,
   "metadata": {},
   "outputs": [
    {
     "data": {
      "text/plain": [
       "75"
      ]
     },
     "execution_count": 54,
     "metadata": {},
     "output_type": "execute_result"
    }
   ],
   "source": [
    "len(cases)"
   ]
  },
  {
   "cell_type": "code",
   "execution_count": 164,
   "metadata": {},
   "outputs": [],
   "source": [
    "def error(a, b):\n",
    "    error = 0\n",
    "    best_beta = None\n",
    "    y0 = [N - 1, 0, 1, 0, 0, 0, 0, 0]\n",
    "    for i in range(70):\n",
    "        beta = a * i + b\n",
    "        f2 = partial(f, beta=beta, rho=0.5)\n",
    "        t = np.linspace(i, i + 1, 70)\n",
    "        soln = odeint(f2, y0, t)\n",
    "        X = soln[:, 0]\n",
    "        V = soln[:, 1]\n",
    "        Q = soln[:, 2]\n",
    "        W = soln[:, 3]\n",
    "        Y = soln[:, 4]\n",
    "        U = soln[:, 5]\n",
    "        Z = soln[:, 6]\n",
    "        D = soln[:, 7]\n",
    "        to_sum = W[69] + Y[69] + U[69] + Z[69] - cases[i]\n",
    "        error += to_sum * to_sum\n",
    "        y0 = [X[69], V[69], Q[69], W[69], Y[69], U[69], Z[69], D[69]]\n",
    "    return error"
   ]
  },
  {
   "cell_type": "code",
   "execution_count": 69,
   "metadata": {},
   "outputs": [
    {
     "name": "stdout",
     "output_type": "stream",
     "text": [
      "6634294688622583.0\n"
     ]
    }
   ],
   "source": [
    "print(error(1, 1))"
   ]
  },
  {
   "cell_type": "code",
   "execution_count": null,
   "metadata": {},
   "outputs": [],
   "source": []
  },
  {
   "cell_type": "code",
   "execution_count": 70,
   "metadata": {},
   "outputs": [
    {
     "name": "stdout",
     "output_type": "stream",
     "text": [
      "a = -1.7 done\n",
      "a = -1.69 done\n",
      "a = -1.68 done\n",
      "a = -1.67 done\n",
      "a = -1.66 done\n",
      "a = -1.65 done\n",
      "a = -1.64 done\n",
      "a = -1.63 done\n",
      "a = -1.6199999999999999 done\n",
      "a = -1.6099999999999999 done\n",
      "a = -1.5999999999999999 done\n",
      "a = -1.5899999999999999 done\n",
      "a = -1.5799999999999998 done\n",
      "a = -1.5699999999999998 done\n",
      "a = -1.5599999999999998 done\n",
      "a = -1.5499999999999998 done\n",
      "a = -1.5399999999999998 done\n",
      "a = -1.5299999999999998 done\n",
      "a = -1.5199999999999998 done\n",
      "a = -1.5099999999999998 done\n",
      "a = -1.4999999999999998 done\n",
      "a = -1.4899999999999998 done\n",
      "a = -1.4799999999999998 done\n",
      "a = -1.4699999999999998 done\n",
      "a = -1.4599999999999997 done\n",
      "a = -1.4499999999999997 done\n",
      "a = -1.4399999999999997 done\n",
      "a = -1.4299999999999997 done\n",
      "a = -1.4199999999999997 done\n",
      "a = -1.4099999999999997 done\n",
      "a = -1.3999999999999997 done\n",
      "a = -1.3899999999999997 done\n",
      "a = -1.3799999999999997 done\n",
      "a = -1.3699999999999997 done\n",
      "a = -1.3599999999999997 done\n",
      "a = -1.3499999999999996 done\n",
      "a = -1.3399999999999996 done\n",
      "a = -1.3299999999999996 done\n",
      "a = -1.3199999999999996 done\n",
      "a = -1.3099999999999996 done\n",
      "a = -1.2999999999999996 done\n",
      "a = -1.2899999999999996 done\n",
      "a = -1.2799999999999996 done\n",
      "a = -1.2699999999999996 done\n",
      "a = -1.2599999999999996 done\n",
      "a = -1.2499999999999996 done\n",
      "a = -1.2399999999999995 done\n",
      "a = -1.2299999999999995 done\n",
      "a = -1.2199999999999995 done\n",
      "a = -1.2099999999999995 done\n",
      "a = -1.1999999999999995 done\n",
      "a = -1.1899999999999995 done\n",
      "a = -1.1799999999999995 done\n",
      "a = -1.1699999999999995 done\n",
      "a = -1.1599999999999995 done\n",
      "a = -1.1499999999999995 done\n",
      "a = -1.1399999999999995 done\n",
      "a = -1.1299999999999994 done\n",
      "a = -1.1199999999999994 done\n",
      "a = -1.1099999999999994 done\n",
      "a = -1.0999999999999994 done\n",
      "a = -1.0899999999999994 done\n",
      "a = -1.0799999999999994 done\n",
      "a = -1.0699999999999994 done\n",
      "a = -1.0599999999999994 done\n",
      "a = -1.0499999999999994 done\n",
      "a = -1.0399999999999994 done\n",
      "a = -1.0299999999999994 done\n",
      "a = -1.0199999999999994 done\n",
      "a = -1.0099999999999993 done\n",
      "a = -0.9999999999999993 done\n",
      "a = -0.9899999999999993 done\n",
      "a = -0.9799999999999993 done\n",
      "a = -0.9699999999999993 done\n",
      "a = -0.9599999999999993 done\n",
      "a = -0.9499999999999993 done\n",
      "a = -0.9399999999999993 done\n",
      "a = -0.9299999999999993 done\n",
      "a = -0.9199999999999993 done\n",
      "a = -0.9099999999999993 done\n",
      "a = -0.8999999999999992 done\n",
      "a = -0.8899999999999992 done\n",
      "a = -0.8799999999999992 done\n",
      "a = -0.8699999999999992 done\n",
      "a = -0.8599999999999992 done\n",
      "a = -0.8499999999999992 done\n",
      "a = -0.8399999999999992 done\n",
      "a = -0.8299999999999992 done\n",
      "a = -0.8199999999999992 done\n",
      "a = -0.8099999999999992 done\n",
      "a = -0.7999999999999992 done\n",
      "a = -0.7899999999999991 done\n",
      "a = -0.7799999999999991 done\n",
      "a = -0.7699999999999991 done\n",
      "a = -0.7599999999999991 done\n",
      "a = -0.7499999999999991 done\n",
      "a = -0.7399999999999991 done\n",
      "a = -0.7299999999999991 done\n",
      "a = -0.7199999999999991 done\n",
      "a = -0.7099999999999991 done\n",
      "a = -0.6999999999999991 done\n",
      "a = -0.6899999999999991 done\n",
      "a = -0.679999999999999 done\n",
      "a = -0.669999999999999 done\n",
      "a = -0.659999999999999 done\n",
      "a = -0.649999999999999 done\n",
      "a = -0.639999999999999 done\n",
      "a = -0.629999999999999 done\n",
      "a = -0.619999999999999 done\n",
      "a = -0.609999999999999 done\n",
      "a = -0.599999999999999 done\n",
      "a = -0.589999999999999 done\n",
      "a = -0.579999999999999 done\n",
      "a = -0.569999999999999 done\n",
      "a = -0.5599999999999989 done\n",
      "a = -0.5499999999999989 done\n",
      "a = -0.5399999999999989 done\n",
      "a = -0.5299999999999989 done\n",
      "a = -0.5199999999999989 done\n",
      "a = -0.5099999999999989 done\n",
      "a = -0.4999999999999989 done\n",
      "a = -0.4899999999999989 done\n",
      "a = -0.47999999999999887 done\n",
      "a = -0.46999999999999886 done\n",
      "a = -0.45999999999999885 done\n",
      "a = -0.44999999999999885 done\n",
      "a = -0.43999999999999884 done\n",
      "a = -0.4299999999999988 done\n",
      "a = -0.4199999999999988 done\n",
      "a = -0.4099999999999988 done\n",
      "a = -0.3999999999999988 done\n",
      "a = -0.3899999999999988 done\n",
      "a = -0.3799999999999988 done\n",
      "a = -0.3699999999999988 done\n",
      "a = -0.35999999999999877 done\n",
      "a = -0.34999999999999876 done\n",
      "a = -0.33999999999999875 done\n",
      "a = -0.32999999999999874 done\n",
      "a = -0.31999999999999873 done\n",
      "a = -0.3099999999999987 done\n",
      "a = -0.2999999999999987 done\n",
      "a = -0.2899999999999987 done\n",
      "a = -0.2799999999999987 done\n",
      "a = -0.2699999999999987 done\n",
      "a = -0.2599999999999987 done\n",
      "a = -0.24999999999999867 done\n",
      "a = -0.23999999999999866 done\n",
      "a = -0.22999999999999865 done\n",
      "a = -0.21999999999999864 done\n",
      "a = -0.20999999999999863 done\n",
      "a = -0.19999999999999862 done\n",
      "a = -0.18999999999999861 done\n",
      "a = -0.1799999999999986 done\n",
      "a = -0.1699999999999986 done\n",
      "a = -0.1599999999999986 done\n",
      "a = -0.14999999999999858 done\n",
      "a = -0.13999999999999857 done\n",
      "a = -0.12999999999999856 done\n",
      "a = -0.11999999999999857 done\n",
      "a = -0.10999999999999857 done\n",
      "a = -0.09999999999999858 done\n",
      "a = -0.08999999999999858 done\n",
      "a = -0.07999999999999859 done\n",
      "a = -0.06999999999999859 done\n",
      "a = -0.05999999999999859 done\n",
      "a = -0.04999999999999859 done\n",
      "a = -0.039999999999998585 done\n",
      "a = -0.029999999999998583 done\n",
      "a = -0.01999999999999858 done\n"
     ]
    }
   ],
   "source": [
    "step = 0.01\n",
    "min_b = 0.3\n",
    "max_b = 2\n",
    "max_a = -0.01\n",
    "min_a = -1.7\n",
    "best_error = 10e12\n",
    "best_params = None\n",
    "a = min_a\n",
    "while (a <= max_a):\n",
    "    b = min_b\n",
    "    while (b <= max_b):\n",
    "        new_err = error(a, b)\n",
    "        if new_err < best_error:\n",
    "            best_error = new_err\n",
    "            best_params = [a, b]\n",
    "        b += step\n",
    "    print(\"a = {} done\".format(a))\n",
    "    a += step"
   ]
  },
  {
   "cell_type": "code",
   "execution_count": 72,
   "metadata": {},
   "outputs": [
    {
     "name": "stdout",
     "output_type": "stream",
     "text": [
      "465789173.5977191 [-0.01999999999999858, 1.5000000000000009]\n"
     ]
    }
   ],
   "source": [
    "print(best_error, best_params)"
   ]
  },
  {
   "cell_type": "code",
   "execution_count": 73,
   "metadata": {},
   "outputs": [],
   "source": [
    "a = -0.01\n",
    "b = min_b\n",
    "while (b <= max_b):\n",
    "    new_err = error(a, b)\n",
    "    if new_err < best_error:\n",
    "        best_error = new_err\n",
    "        best_params = [a, b]\n",
    "    b += step"
   ]
  },
  {
   "cell_type": "code",
   "execution_count": 74,
   "metadata": {},
   "outputs": [
    {
     "name": "stdout",
     "output_type": "stream",
     "text": [
      "465789173.5977191 [-0.01999999999999858, 1.5000000000000009]\n"
     ]
    }
   ],
   "source": [
    "print(best_error, best_params)"
   ]
  },
  {
   "cell_type": "code",
   "execution_count": null,
   "metadata": {},
   "outputs": [],
   "source": []
  },
  {
   "cell_type": "code",
   "execution_count": 284,
   "metadata": {},
   "outputs": [
    {
     "data": {
      "image/png": "[encoded data removed]",
      "text/plain": [
       "<Figure size 720x576 with 1 Axes>"
      ]
     },
     "metadata": {
      "needs_background": "light"
     },
     "output_type": "display_data"
    }
   ],
   "source": [
    "y0 = [N - 1, 0, 1, 0, 0, 0, 0, 0]\n",
    "forecast = list()\n",
    "for i in range(len(cases) + 15):\n",
    "    xi = 3\n",
    "    beta = -0.015920000000000045 * i + 1.3889999999999958\n",
    "    f2 = partial(f, beta=beta, rho=0.5)\n",
    "    t = np.linspace(i, i + 1, 70)\n",
    "    soln = odeint(f2, y0, t)\n",
    "    X = soln[:, 0]\n",
    "    V = soln[:, 1]\n",
    "    Q = soln[:, 2]\n",
    "    W = soln[:, 3]\n",
    "    Y = soln[:, 4]\n",
    "    U = soln[:, 5]\n",
    "    Z = soln[:, 6]\n",
    "    D = soln[:, 7]\n",
    "    y0 = [X[69], V[69], Q[69], W[69], Y[69], U[69], Z[69], D[69]]\n",
    "    if i < 70:\n",
    "        plt.scatter(i, cases[i], color='red')\n",
    "        plt.scatter(i, W[69] + Y[69] + U[69] + Z[69], color='blue')\n",
    "    else:\n",
    "        forecast.append(W[69] + Y[69] + U[69] + Z[69])\n",
    "plt.show()"
   ]
  },
  {
   "cell_type": "code",
   "execution_count": 277,
   "metadata": {},
   "outputs": [
    {
     "name": "stdout",
     "output_type": "stream",
     "text": [
      "[74317.24259008844, 81183.12901073534, 88657.82038925562, 96793.96613762039, 105648.51968680145, 115283.04395306125, 125764.02963952583, 137163.2250622132, 149557.97569602382, 163031.57105173834, 177673.5958092577, 193580.28133451747, 210854.85278767548, 229607.86597936996, 249957.5269431601, 272029.98586188245, 295959.59551410575, 321889.12280080107, 349969.90018639446, 380361.90206726745]\n"
     ]
    }
   ],
   "source": [
    "print(forecast)"
   ]
  },
  {
   "cell_type": "code",
   "execution_count": 278,
   "metadata": {},
   "outputs": [
    {
     "name": "stdout",
     "output_type": "stream",
     "text": [
      "[74401, 80115, 85973, 92676, 98522]\n"
     ]
    }
   ],
   "source": [
    "print(cases[70:])"
   ]
  },
  {
   "cell_type": "code",
   "execution_count": 166,
   "metadata": {},
   "outputs": [
    {
     "name": "stdout",
     "output_type": "stream",
     "text": [
      "a = -0.017 done\n",
      "a = -0.01699 done\n",
      "a = -0.016980000000000002 done\n",
      "a = -0.016970000000000002 done\n",
      "a = -0.016960000000000003 done\n",
      "a = -0.016950000000000003 done\n",
      "a = -0.016940000000000004 done\n",
      "a = -0.016930000000000004 done\n",
      "a = -0.016920000000000004 done\n",
      "a = -0.016910000000000005 done\n",
      "a = -0.016900000000000005 done\n",
      "a = -0.016890000000000006 done\n",
      "a = -0.016880000000000006 done\n",
      "a = -0.016870000000000007 done\n",
      "a = -0.016860000000000007 done\n",
      "a = -0.016850000000000007 done\n",
      "a = -0.016840000000000008 done\n",
      "a = -0.016830000000000008 done\n",
      "a = -0.01682000000000001 done\n",
      "a = -0.01681000000000001 done\n",
      "a = -0.01680000000000001 done\n",
      "a = -0.01679000000000001 done\n",
      "a = -0.01678000000000001 done\n",
      "a = -0.01677000000000001 done\n",
      "a = -0.01676000000000001 done\n",
      "a = -0.01675000000000001 done\n",
      "a = -0.016740000000000012 done\n",
      "a = -0.016730000000000012 done\n",
      "a = -0.016720000000000013 done\n",
      "a = -0.016710000000000013 done\n",
      "a = -0.016700000000000013 done\n",
      "a = -0.016690000000000014 done\n",
      "a = -0.016680000000000014 done\n",
      "a = -0.016670000000000015 done\n",
      "a = -0.016660000000000015 done\n",
      "a = -0.016650000000000015 done\n",
      "a = -0.016640000000000016 done\n",
      "a = -0.016630000000000016 done\n",
      "a = -0.016620000000000017 done\n",
      "a = -0.016610000000000017 done\n",
      "a = -0.016600000000000018 done\n",
      "a = -0.016590000000000018 done\n",
      "a = -0.01658000000000002 done\n",
      "a = -0.01657000000000002 done\n",
      "a = -0.01656000000000002 done\n",
      "a = -0.01655000000000002 done\n",
      "a = -0.01654000000000002 done\n",
      "a = -0.01653000000000002 done\n",
      "a = -0.01652000000000002 done\n",
      "a = -0.01651000000000002 done\n",
      "a = -0.01650000000000002 done\n",
      "a = -0.016490000000000022 done\n",
      "a = -0.016480000000000022 done\n",
      "a = -0.016470000000000023 done\n",
      "a = -0.016460000000000023 done\n",
      "a = -0.016450000000000024 done\n",
      "a = -0.016440000000000024 done\n",
      "a = -0.016430000000000024 done\n",
      "a = -0.016420000000000025 done\n",
      "a = -0.016410000000000025 done\n",
      "a = -0.016400000000000026 done\n",
      "a = -0.016390000000000026 done\n",
      "a = -0.016380000000000026 done\n",
      "a = -0.016370000000000027 done\n",
      "a = -0.016360000000000027 done\n",
      "a = -0.016350000000000028 done\n",
      "a = -0.016340000000000028 done\n",
      "a = -0.01633000000000003 done\n",
      "a = -0.01632000000000003 done\n",
      "a = -0.01631000000000003 done\n",
      "a = -0.01630000000000003 done\n",
      "a = -0.01629000000000003 done\n",
      "a = -0.01628000000000003 done\n",
      "a = -0.01627000000000003 done\n",
      "a = -0.01626000000000003 done\n",
      "a = -0.016250000000000032 done\n",
      "a = -0.016240000000000032 done\n",
      "a = -0.016230000000000033 done\n",
      "a = -0.016220000000000033 done\n",
      "a = -0.016210000000000033 done\n",
      "a = -0.016200000000000034 done\n",
      "a = -0.016190000000000034 done\n",
      "a = -0.016180000000000035 done\n",
      "a = -0.016170000000000035 done\n",
      "a = -0.016160000000000035 done\n",
      "a = -0.016150000000000036 done\n",
      "a = -0.016140000000000036 done\n",
      "a = -0.016130000000000037 done\n",
      "a = -0.016120000000000037 done\n",
      "a = -0.016110000000000037 done\n",
      "a = -0.016100000000000038 done\n",
      "a = -0.01609000000000004 done\n",
      "a = -0.01608000000000004 done\n",
      "a = -0.01607000000000004 done\n",
      "a = -0.01606000000000004 done\n",
      "a = -0.01605000000000004 done\n",
      "a = -0.01604000000000004 done\n",
      "a = -0.01603000000000004 done\n",
      "a = -0.01602000000000004 done\n",
      "a = -0.01601000000000004 done\n",
      "a = -0.016000000000000042 done\n",
      "a = -0.015990000000000042 done\n",
      "a = -0.015980000000000043 done\n",
      "a = -0.015970000000000043 done\n",
      "a = -0.015960000000000044 done\n",
      "a = -0.015950000000000044 done\n",
      "a = -0.015940000000000044 done\n",
      "a = -0.015930000000000045 done\n",
      "a = -0.015920000000000045 done\n",
      "a = -0.015910000000000046 done\n",
      "a = -0.015900000000000046 done\n",
      "a = -0.015890000000000046 done\n",
      "a = -0.015880000000000047 done\n",
      "a = -0.015870000000000047 done\n",
      "a = -0.015860000000000048 done\n",
      "a = -0.015850000000000048 done\n",
      "a = -0.01584000000000005 done\n",
      "a = -0.01583000000000005 done\n",
      "a = -0.01582000000000005 done\n",
      "a = -0.01581000000000005 done\n",
      "a = -0.01580000000000005 done\n",
      "a = -0.01579000000000005 done\n",
      "a = -0.01578000000000005 done\n",
      "a = -0.01577000000000005 done\n",
      "a = -0.015760000000000052 done\n",
      "a = -0.015750000000000052 done\n",
      "a = -0.015740000000000053 done\n",
      "a = -0.015730000000000053 done\n",
      "a = -0.015720000000000053 done\n",
      "a = -0.015710000000000054 done\n",
      "a = -0.015700000000000054 done\n",
      "a = -0.015690000000000055 done\n",
      "a = -0.015680000000000055 done\n",
      "a = -0.015670000000000055 done\n",
      "a = -0.015660000000000056 done\n",
      "a = -0.015650000000000056 done\n",
      "a = -0.015640000000000057 done\n",
      "a = -0.015630000000000057 done\n",
      "a = -0.015620000000000057 done\n",
      "a = -0.015610000000000058 done\n",
      "a = -0.015600000000000058 done\n"
     ]
    }
   ],
   "source": [
    "a_step = 0.00001\n",
    "b_step = 0.001\n",
    "min_b = 1.35\n",
    "max_b = 1.51\n",
    "max_a = -0.0156\n",
    "min_a = -0.0170\n",
    "best_error = 10e12\n",
    "best_params = None\n",
    "a = min_a\n",
    "while (a <= max_a):\n",
    "    b = min_b\n",
    "    while (b <= max_b):\n",
    "        new_err = error(a, b)\n",
    "        if new_err < best_error:\n",
    "            best_error = new_err\n",
    "            best_params = [a, b]\n",
    "        b += b_step\n",
    "    print(\"a = {} done\".format(a))\n",
    "    a += a_step"
   ]
  },
  {
   "cell_type": "code",
   "execution_count": 169,
   "metadata": {},
   "outputs": [
    {
     "name": "stdout",
     "output_type": "stream",
     "text": [
      "28219343.267033733 [-0.015920000000000045, 1.3889999999999958]\n"
     ]
    }
   ],
   "source": [
    "print(best_error, best_params)"
   ]
  },
  {
   "cell_type": "code",
   "execution_count": 93,
   "metadata": {},
   "outputs": [
    {
     "name": "stdout",
     "output_type": "stream",
     "text": [
      "643.8544510048151\n"
     ]
    }
   ],
   "source": []
  },
  {
   "cell_type": "code",
   "execution_count": 233,
   "metadata": {},
   "outputs": [],
   "source": [
    "def f(y, t, beta, rho):\n",
    "    Xi = y[0] # susceptible\n",
    "    Vi = y[1] # exposed\n",
    "    Qi = y[2] # infectious\n",
    "    Wi = y[3] # non-symptomatical\n",
    "    Yi = y[4] # symptomatical (non-hospitalized)\n",
    "    Ui = y[5] # hospitalized\n",
    "    Zi = y[6] # removed\n",
    "    Di = y[7] # dead\n",
    "    f0 = -beta * Xi * Qi / N\n",
    "    f1 = beta * Xi * Qi / N - (1 / sigma) * Vi\n",
    "    f2 = (1 / sigma) * Vi - (1 / xi) * Qi\n",
    "    f3 = (1 / xi) * mu * Qi - (1 / lmbda) * Wi\n",
    "    f4 = (1 / xi) * (1 - mu) * Qi - 0.87 * (1 / gamma) * Yi - 0.13 * (1 / eta) * Yi\n",
    "    f5 = 0.13 * (1 / eta) * Yi - (1 / gamma) * Ui / (1 - rho)\n",
    "    f6 = (1 / lmbda) * Wi + 0.87 * (1 / gamma) * Yi + (1 / gamma) * Ui\n",
    "    f7 = rho / (1 - rho) * Ui\n",
    "    return [f0, f1, f2, f3, f4, f5, f6, f7]\n",
    "\n",
    "    \n",
    "\n",
    "\n",
    "# xi = a*t+b\n",
    "\n",
    "def xi_error(c, d):\n",
    "    error = 0\n",
    "    y0 = [N - 1, 0, 1, 0, 0, 0, 0, 0]\n",
    "    for i in range(70):\n",
    "        beta = -0.0159999999999997 * i + 1.3909999999999\n",
    "        xi = c * i + d\n",
    "        if xi == 0:\n",
    "            return 10e12\n",
    "        f3 = partial(f, beta=beta, rho=0.5, xi=xi)\n",
    "        t = np.linspace(i, i + 1, 70)\n",
    "        soln = odeint(f3, y0, t)\n",
    "        X = soln[:, 0]\n",
    "        V = soln[:, 1]\n",
    "        Q = soln[:, 2]\n",
    "        W = soln[:, 3]\n",
    "        Y = soln[:, 4]\n",
    "        U = soln[:, 5]\n",
    "        Z = soln[:, 6]\n",
    "        D = soln[:, 7]\n",
    "        to_sum = W[69] + Y[69] + U[69] + Z[69] - cases[i]\n",
    "        error += to_sum * to_sum\n",
    "        y0 = [X[69], V[69], Q[69], W[69], Y[69], U[69], Z[69], D[69]]\n",
    "    return error"
   ]
  },
  {
   "cell_type": "code",
   "execution_count": 215,
   "metadata": {},
   "outputs": [
    {
     "name": "stdout",
     "output_type": "stream",
     "text": [
      "c = -2 done\n",
      "c = -1.99 done\n",
      "c = -1.98 done\n",
      "c = -1.97 done\n"
     ]
    },
    {
     "name": "stderr",
     "output_type": "stream",
     "text": [
      "/Users/danyasedashov/anaconda3/lib/python3.7/site-packages/scipy/integrate/odepack.py:248: ODEintWarning: Repeated convergence failures (perhaps bad Jacobian or tolerances). Run with full_output = 1 to get quantitative information.\n",
      "  warnings.warn(warning_msg, ODEintWarning)\n"
     ]
    },
    {
     "name": "stdout",
     "output_type": "stream",
     "text": [
      "c = -1.96 done\n",
      "c = -1.95 done\n",
      "c = -1.94 done\n",
      "c = -1.93 done\n",
      "c = -1.92 done\n",
      "c = -1.91 done\n",
      "c = -1.9 done\n",
      "c = -1.89 done\n",
      "c = -1.88 done\n",
      "c = -1.8699999999999999 done\n",
      "c = -1.8599999999999999 done\n",
      "c = -1.8499999999999999 done\n",
      "c = -1.8399999999999999 done\n",
      "c = -1.8299999999999998 done\n",
      "c = -1.8199999999999998 done\n",
      "c = -1.8099999999999998 done\n",
      "c = -1.7999999999999998 done\n",
      "c = -1.7899999999999998 done\n",
      "c = -1.7799999999999998 done\n",
      "c = -1.7699999999999998 done\n",
      "c = -1.7599999999999998 done\n",
      "c = -1.7499999999999998 done\n",
      "c = -1.7399999999999998 done\n",
      "c = -1.7299999999999998 done\n",
      "c = -1.7199999999999998 done\n",
      "c = -1.7099999999999997 done\n",
      "c = -1.6999999999999997 done\n",
      "c = -1.6899999999999997 done\n",
      "c = -1.6799999999999997 done\n",
      "c = -1.6699999999999997 done\n",
      "c = -1.6599999999999997 done\n",
      "c = -1.6499999999999997 done\n",
      "c = -1.6399999999999997 done\n"
     ]
    },
    {
     "name": "stderr",
     "output_type": "stream",
     "text": [
      "/Users/danyasedashov/anaconda3/lib/python3.7/site-packages/scipy/integrate/odepack.py:248: ODEintWarning: Excess work done on this call (perhaps wrong Dfun type). Run with full_output = 1 to get quantitative information.\n",
      "  warnings.warn(warning_msg, ODEintWarning)\n"
     ]
    },
    {
     "name": "stdout",
     "output_type": "stream",
     "text": [
      "c = -1.6299999999999997 done\n",
      "c = -1.6199999999999997 done\n",
      "c = -1.6099999999999997 done\n",
      "c = -1.5999999999999996 done\n",
      "c = -1.5899999999999996 done\n",
      "c = -1.5799999999999996 done\n",
      "c = -1.5699999999999996 done\n",
      "c = -1.5599999999999996 done\n",
      "c = -1.5499999999999996 done\n",
      "c = -1.5399999999999996 done\n",
      "c = -1.5299999999999996 done\n",
      "c = -1.5199999999999996 done\n",
      "c = -1.5099999999999996 done\n",
      "c = -1.4999999999999996 done\n",
      "c = -1.4899999999999995 done\n",
      "c = -1.4799999999999995 done\n",
      "c = -1.4699999999999995 done\n",
      "c = -1.4599999999999995 done\n",
      "c = -1.4499999999999995 done\n",
      "c = -1.4399999999999995 done\n",
      "c = -1.4299999999999995 done\n",
      "c = -1.4199999999999995 done\n",
      "c = -1.4099999999999995 done\n",
      "c = -1.3999999999999995 done\n",
      "c = -1.3899999999999995 done\n",
      "c = -1.3799999999999994 done\n",
      "c = -1.3699999999999994 done\n",
      "c = -1.3599999999999994 done\n",
      "c = -1.3499999999999994 done\n",
      "c = -1.3399999999999994 done\n",
      "c = -1.3299999999999994 done\n",
      "c = -1.3199999999999994 done\n",
      "c = -1.3099999999999994 done\n",
      "c = -1.2999999999999994 done\n",
      "c = -1.2899999999999994 done\n",
      "c = -1.2799999999999994 done\n",
      "c = -1.2699999999999994 done\n",
      "c = -1.2599999999999993 done\n",
      "c = -1.2499999999999993 done\n",
      "c = -1.2399999999999993 done\n",
      "c = -1.2299999999999993 done\n",
      "c = -1.2199999999999993 done\n",
      "c = -1.2099999999999993 done\n",
      "c = -1.1999999999999993 done\n",
      "c = -1.1899999999999993 done\n",
      "c = -1.1799999999999993 done\n",
      "c = -1.1699999999999993 done\n",
      "c = -1.1599999999999993 done\n",
      "c = -1.1499999999999992 done\n",
      "c = -1.1399999999999992 done\n",
      "c = -1.1299999999999992 done\n",
      "c = -1.1199999999999992 done\n",
      "c = -1.1099999999999992 done\n",
      "c = -1.0999999999999992 done\n",
      "c = -1.0899999999999992 done\n",
      "c = -1.0799999999999992 done\n",
      "c = -1.0699999999999992 done\n",
      "c = -1.0599999999999992 done\n",
      "c = -1.0499999999999992 done\n",
      "c = -1.0399999999999991 done\n",
      "c = -1.0299999999999991 done\n",
      "c = -1.0199999999999991 done\n",
      "c = -1.0099999999999991 done\n",
      "c = -0.9999999999999991 done\n",
      "c = -0.9899999999999991 done\n",
      "c = -0.9799999999999991 done\n",
      "c = -0.9699999999999991 done\n",
      "c = -0.9599999999999991 done\n",
      "c = -0.9499999999999991 done\n",
      "c = -0.9399999999999991 done\n",
      "c = -0.929999999999999 done\n",
      "c = -0.919999999999999 done\n",
      "c = -0.909999999999999 done\n",
      "c = -0.899999999999999 done\n",
      "c = -0.889999999999999 done\n",
      "c = -0.879999999999999 done\n",
      "c = -0.869999999999999 done\n",
      "c = -0.859999999999999 done\n",
      "c = -0.849999999999999 done\n",
      "c = -0.839999999999999 done\n",
      "c = -0.829999999999999 done\n",
      "c = -0.819999999999999 done\n",
      "c = -0.8099999999999989 done\n",
      "c = -0.7999999999999989 done\n",
      "c = -0.7899999999999989 done\n",
      "c = -0.7799999999999989 done\n",
      "c = -0.7699999999999989 done\n",
      "c = -0.7599999999999989 done\n",
      "c = -0.7499999999999989 done\n",
      "c = -0.7399999999999989 done\n",
      "c = -0.7299999999999989 done\n",
      "c = -0.7199999999999989 done\n",
      "c = -0.7099999999999989 done\n",
      "c = -0.6999999999999988 done\n",
      "c = -0.6899999999999988 done\n",
      "c = -0.6799999999999988 done\n",
      "c = -0.6699999999999988 done\n",
      "c = -0.6599999999999988 done\n",
      "c = -0.6499999999999988 done\n",
      "c = -0.6399999999999988 done\n",
      "c = -0.6299999999999988 done\n",
      "c = -0.6199999999999988 done\n",
      "c = -0.6099999999999988 done\n",
      "c = -0.5999999999999988 done\n",
      "c = -0.5899999999999987 done\n",
      "c = -0.5799999999999987 done\n",
      "c = -0.5699999999999987 done\n",
      "c = -0.5599999999999987 done\n",
      "c = -0.5499999999999987 done\n",
      "c = -0.5399999999999987 done\n",
      "c = -0.5299999999999987 done\n",
      "c = -0.5199999999999987 done\n",
      "c = -0.5099999999999987 done\n",
      "c = -0.49999999999999867 done\n",
      "c = -0.48999999999999866 done\n",
      "c = -0.47999999999999865 done\n",
      "c = -0.46999999999999864 done\n",
      "c = -0.45999999999999863 done\n",
      "c = -0.4499999999999986 done\n",
      "c = -0.4399999999999986 done\n",
      "c = -0.4299999999999986 done\n",
      "c = -0.4199999999999986 done\n",
      "c = -0.4099999999999986 done\n",
      "c = -0.3999999999999986 done\n",
      "c = -0.38999999999999857 done\n",
      "c = -0.37999999999999856 done\n",
      "c = -0.36999999999999855 done\n",
      "c = -0.35999999999999854 done\n",
      "c = -0.34999999999999853 done\n",
      "c = -0.3399999999999985 done\n",
      "c = -0.3299999999999985 done\n",
      "c = -0.3199999999999985 done\n",
      "c = -0.3099999999999985 done\n",
      "c = -0.2999999999999985 done\n",
      "c = -0.2899999999999985 done\n",
      "c = -0.2799999999999985 done\n",
      "c = -0.26999999999999846 done\n",
      "c = -0.25999999999999845 done\n",
      "c = -0.24999999999999845 done\n",
      "c = -0.23999999999999844 done\n",
      "c = -0.22999999999999843 done\n",
      "c = -0.21999999999999842 done\n",
      "c = -0.2099999999999984 done\n",
      "c = -0.1999999999999984 done\n",
      "c = -0.1899999999999984 done\n",
      "c = -0.17999999999999838 done\n",
      "c = -0.16999999999999837 done\n",
      "c = -0.15999999999999837 done\n",
      "c = -0.14999999999999836 done\n",
      "c = -0.13999999999999835 done\n",
      "c = -0.12999999999999834 done\n",
      "c = -0.11999999999999834 done\n",
      "c = -0.10999999999999835 done\n",
      "c = -0.09999999999999835 done\n",
      "c = -0.08999999999999836 done\n",
      "c = -0.07999999999999836 done\n",
      "c = -0.06999999999999837 done\n",
      "c = -0.05999999999999837 done\n",
      "c = -0.049999999999998365 done\n",
      "c = -0.03999999999999836 done\n",
      "c = -0.02999999999999836 done\n",
      "c = -0.01999999999999836 done\n"
     ]
    }
   ],
   "source": [
    "c_min = -2\n",
    "c_max = -0.01\n",
    "d_min = 1.5\n",
    "d_max = 5\n",
    "c = c_min\n",
    "best_error_xi = 10e12\n",
    "best_params_xi = None\n",
    "while (c <= c_max):\n",
    "    d = d_min\n",
    "    while (d <= d_max):\n",
    "        current = xi_error(c,d)\n",
    "        if current < best_error_xi:\n",
    "            best_error_xi = current\n",
    "            best_params_xi = [c, d]\n",
    "        d += 0.1\n",
    "    print(\"c = {} done\".format(c))\n",
    "    c += 0.01"
   ]
  },
  {
   "cell_type": "code",
   "execution_count": 216,
   "metadata": {},
   "outputs": [
    {
     "name": "stdout",
     "output_type": "stream",
     "text": [
      "292373991.02834064 [-0.01999999999999836, 3.5000000000000018]\n"
     ]
    }
   ],
   "source": [
    "print(best_error_xi, best_params_xi)"
   ]
  },
  {
   "cell_type": "code",
   "execution_count": 167,
   "metadata": {},
   "outputs": [
    {
     "name": "stdout",
     "output_type": "stream",
     "text": [
      "step = 0.001, err =29018398.785509832, a =-0.0159999999999997,, b = 1.39099999999999\n"
     ]
    }
   ],
   "source": [
    "print(\"step = {}, err ={}, a ={},, b = {}\".format(0.001, 29018398.785509832, -0.0159999999999997, 1.39099999999999))"
   ]
  },
  {
   "cell_type": "code",
   "execution_count": 168,
   "metadata": {},
   "outputs": [
    {
     "name": "stdout",
     "output_type": "stream",
     "text": [
      "step = 0.01, err =465789173.5977191, a =-0.01999999999999858,, b = 1.5000000000000009\n"
     ]
    }
   ],
   "source": [
    "print(\"step = {}, err ={}, a ={},, b = {}\".format(0.01, 465789173.5977191, -0.01999999999999858, 1.5000000000000009))"
   ]
  },
  {
   "cell_type": "code",
   "execution_count": 170,
   "metadata": {},
   "outputs": [
    {
     "name": "stdout",
     "output_type": "stream",
     "text": [
      "step = 0.0001, err =28219343.267033733, a =-0.015920000000000045,, b = 1.3889999999999958\n"
     ]
    }
   ],
   "source": [
    "print(\"step = {}, err ={}, a ={},, b = {}\".format(0.0001, 28219343.267033733, -0.015920000000000045, 1.3889999999999958))"
   ]
  },
  {
   "cell_type": "code",
   "execution_count": null,
   "metadata": {},
   "outputs": [],
   "source": []
  }
 ],
 "metadata": {
  "kernelspec": {
   "display_name": "Python 3",
   "language": "python",
   "name": "python3"
  },
  "language_info": {
   "codemirror_mode": {
    "name": "ipython",
    "version": 3
   },
   "file_extension": ".py",
   "mimetype": "text/x-python",
   "name": "python",
   "nbconvert_exporter": "python",
   "pygments_lexer": "ipython3",
   "version": "3.7.2"
  }
 },
 "nbformat": 4,
 "nbformat_minor": 2
}
