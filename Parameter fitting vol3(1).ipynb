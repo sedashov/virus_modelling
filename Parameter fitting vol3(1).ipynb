{
 "cells": [
  {
   "cell_type": "code",
   "execution_count": null,
   "metadata": {},
   "outputs": [],
   "source": [
    "# Сделаем фиттер для параметров (a, b) функции Бета из предположения, что Бета - можно задать как линейную функцию\n",
    "# или как константу\n",
    "\n",
    "\n",
    "\n",
    "import numpy as np\n",
    "import matplotlib.pyplot as plt\n",
    "from scipy.integrate import odeint\n",
    "\n",
    "cases = [0, 0, 0, 0, 0, 0, 1, 1, 1, 1, 6, 6, 6, 9, 9, \n",
    "         15, 19, 24, 33, 33, 53, 56, 86, 98, 131, 137\n",
    "         , 191, 262, 290, 410, 546, 703, 817, 1014, 1226,\n",
    "         1613, 1880, 2475, 2923, 3357, 3893, 4484, 5181,\n",
    "         5841, 6698, 7822, 8852, 10158, 11513, 13002, 14776,\n",
    "         16146, 18105, 20754, 24324, 26350, 29433, 31981, 33940,\n",
    "         36897, 39509, 42480, 45351, 48426, 50646, 53739, 57300, \n",
    "         62658, 68606, 74401, 80115, 85973, 92676, 98522]\n",
    "\n",
    "def f(y, t, beta, rho):\n",
    "    Xi = y[0] # susceptible\n",
    "    Vi = y[1] # exposed\n",
    "    Qi = y[2] # infectious\n",
    "    Wi = y[3] # non-symptomatical\n",
    "    Yi = y[4] # symptomatical (non-hospitalized)\n",
    "    Ui = y[5] # hospitalized\n",
    "    Zi = y[6] # removed\n",
    "    Di = y[7] # dead\n",
    "    f0 = -beta * Xi * Qi / N\n",
    "    f1 = beta * Xi * Qi / N - (1 / sigma) * Vi\n",
    "    f2 = (1 / sigma) * Vi - (1 / xi) * Qi\n",
    "    f3 = (1 / xi) * mu * Qi - (1 / lmbda) * Wi\n",
    "    f4 = (1 / xi) * (1 - mu) * Qi - 0.87 * (1 / gamma) * Yi - 0.13 * (1 / eta) * Yi\n",
    "    f5 = 0.13 * (1 / eta) * Yi - (1 / gamma) * Ui / (1 - rho)\n",
    "    f6 = (1 / lmbda) * Wi + 0.87 * (1 / gamma) * Yi + (1 / gamma) * Ui\n",
    "    f7 = rho / (1 - rho) * Ui\n",
    "    return [f0, f1, f2, f3, f4, f5, f6, f7]\n"
   ]
  },
  {
   "cell_type": "code",
   "execution_count": null,
   "metadata": {},
   "outputs": [],
   "source": [
    "sigma = 5.1 # mean incubation period\n",
    "eta = 3.5 # avg time between symptoms and hospitalization\n",
    "delta = 14.68 # avg time between hospitalization and death\n",
    "gamma = 11.36 # avg curation time (with symptoms)\n",
    "lmbda = 11.36 # avg curation time (no symptoms)\n",
    "mu = 0.88 # amount of non-symptom cases\n",
    "xi = 3 # mean time between end of incub. period and detection of a virus\n"
   ]
  },
  {
   "cell_type": "code",
   "execution_count": null,
   "metadata": {},
   "outputs": [],
   "source": [
    "def error(a, b, y0, n1, n2):\n",
    "    error = 0\n",
    "    best_beta = None\n",
    "    for i in range(n1, n2):\n",
    "        beta = a * i + b\n",
    "        f2 = partial(f, beta=beta, rho=0.5)\n",
    "        t = np.linspace(i, i + 1, 70)\n",
    "        soln = odeint(f2, y0, t)\n",
    "        X = soln[:, 0]\n",
    "        V = soln[:, 1]\n",
    "        Q = soln[:, 2]\n",
    "        W = soln[:, 3]\n",
    "        Y = soln[:, 4]\n",
    "        U = soln[:, 5]\n",
    "        Z = soln[:, 6]\n",
    "        D = soln[:, 7]\n",
    "        to_sum = W[69] + Y[69] + U[69] + Z[69] - cases[i]\n",
    "        error += to_sum * to_sum\n",
    "        y0 = [X[69], V[69], Q[69], W[69], Y[69], U[69], Z[69], D[69]]\n",
    "    return error"
   ]
  },
  {
   "cell_type": "code",
   "execution_count": null,
   "metadata": {},
   "outputs": [],
   "source": [
    "# Произведём подбор линейных аппроксимаций параметра бета на двух временных отрезках, с начала эпидемии и до\n",
    "# введения режима пропусков и серьезного карантина, и с момента введения карантина по текущий момент.\n",
    "# Ниже приведен подбор на первом периоде\n",
    "\n",
    "from functools import partial\n",
    "\n",
    "N = 12537954\n",
    "\n",
    "a_step = 0.00001\n",
    "b_step = 0.001\n",
    "min_b = 1.35\n",
    "max_b = 1.51\n",
    "max_a = -0.0156\n",
    "min_a = -0.0170\n",
    "best_error = 10e12\n",
    "best_params = None\n",
    "a = min_a\n",
    "while (a <= max_a):\n",
    "    b = min_b\n",
    "    while (b <= max_b):\n",
    "        y0 = [N - 1, 0, 1, 0, 0, 0, 0, 0]\n",
    "        new_err = error(a, b, y0, 0, 54)\n",
    "        if new_err < best_error:\n",
    "            best_error = new_err\n",
    "            best_params = [a, b]\n",
    "        b += b_step\n",
    "    print(\"a = {} done\".format(a))\n",
    "    a += a_step"
   ]
  },
  {
   "cell_type": "code",
   "execution_count": null,
   "metadata": {},
   "outputs": [],
   "source": [
    "print(\"Best error: {} with parameters a: {} b: {}\".format(best_error, best_params[0],\n",
    "                                                                               best_params[1]))"
   ]
  },
  {
   "cell_type": "code",
   "execution_count": null,
   "metadata": {},
   "outputs": [],
   "source": [
    "for i in range(55):\n",
    "    xi = 3\n",
    "    beta = -0.015970000000000043 * i + 1.3989999999999947\n",
    "    f2 = partial(f, beta=beta, rho=0.5)\n",
    "    t = np.linspace(i, i + 1, 70)\n",
    "    soln = odeint(f2, y0, t)\n",
    "    X = soln[:, 0]\n",
    "    V = soln[:, 1]\n",
    "    Q = soln[:, 2]\n",
    "    W = soln[:, 3]\n",
    "    Y = soln[:, 4]\n",
    "    U = soln[:, 5]\n",
    "    Z = soln[:, 6]\n",
    "    D = soln[:, 7]\n",
    "    y0 = [X[69], V[69], Q[69], W[69], Y[69], U[69], Z[69], D[69]]"
   ]
  },
  {
   "cell_type": "code",
   "execution_count": null,
   "metadata": {},
   "outputs": [],
   "source": [
    "print(y0)"
   ]
  },
  {
   "cell_type": "code",
   "execution_count": null,
   "metadata": {
    "scrolled": true
   },
   "outputs": [],
   "source": [
    "# Ниже приведен подбор линейной функции на втором периоде\n",
    "\n",
    "a_step = 0.0001\n",
    "b_step = 0.001\n",
    "min_b = 1\n",
    "max_b = 2\n",
    "max_a = -0.01\n",
    "min_a = -0.015\n",
    "best_error = 10e12\n",
    "best_params = None\n",
    "a = min_a\n",
    "y_55 = [12493060.355396619, 14792.525232326743, 7171.554084447849, 11633.335426068,\n",
    "        1403.3831372589143, 186.0073168823674, 9579.690733370162, 1444.4089254094126]\n",
    "while (a <= max_a):\n",
    "    b = min_b\n",
    "    while (b <= max_b):\n",
    "        y0 = y_55\n",
    "        new_err = error(a, b, y0, 55, len(cases) - 1)\n",
    "        if new_err < best_error:\n",
    "            best_error = new_err\n",
    "            best_params = [a, b]\n",
    "        b += b_step\n",
    "    print(\"a = {} done\".format(a))\n",
    "    a += a_step"
   ]
  },
  {
   "cell_type": "code",
   "execution_count": null,
   "metadata": {},
   "outputs": [],
   "source": [
    "print(\"Best error: {} with parameters a: {} b: {}\".format(best_error, best_params[0],\n",
    "                                                                               best_params[1]))"
   ]
  },
  {
   "cell_type": "code",
   "execution_count": null,
   "metadata": {},
   "outputs": [],
   "source": [
    "# Ниже приведен подбор константы на втором периоде\n",
    "\n",
    "def error_const(с, y0, n1, n2):\n",
    "    error = 0\n",
    "    best_beta = None\n",
    "    for i in range(n1, n2):\n",
    "        f2 = partial(f, beta=с, rho=0.5)\n",
    "        t = np.linspace(i, i + 1, 70)\n",
    "        soln = odeint(f2, y0, t)\n",
    "        X = soln[:, 0]\n",
    "        V = soln[:, 1]\n",
    "        Q = soln[:, 2]\n",
    "        W = soln[:, 3]\n",
    "        Y = soln[:, 4]\n",
    "        U = soln[:, 5]\n",
    "        Z = soln[:, 6]\n",
    "        D = soln[:, 7]\n",
    "        to_sum = W[69] + Y[69] + U[69] + Z[69] - cases[i]\n",
    "        error += to_sum * to_sum\n",
    "        y0 = [X[69], V[69], Q[69], W[69], Y[69], U[69], Z[69], D[69]]\n",
    "    return error\n",
    "\n",
    "c_step = 0.0001\n",
    "max_c = 1\n",
    "min_c = 0\n",
    "best_error = 10e12\n",
    "best_const = None\n",
    "c = min_c\n",
    "y_55 = [12493060.355396619, 14792.525232326743, 7171.554084447849, 11633.335426068, \n",
    "        1403.3831372589143, 186.0073168823674, 9579.690733370162, 1444.4089254094126]\n",
    "\n",
    "while (c <= max_c):\n",
    "    y0 = y_55\n",
    "    new_err = error_const(c, y0, 55, len(cases) - 1)\n",
    "    if new_err < best_error:\n",
    "        best_error = new_err\n",
    "        best_const = c\n",
    "    print(\"c = {} done\".format(c))\n",
    "    c += c_step\n"
   ]
  },
  {
   "cell_type": "code",
   "execution_count": null,
   "metadata": {},
   "outputs": [],
   "source": [
    "print(\"Best error: {} with parameter c: {}\".format(best_error, best_const))"
   ]
  },
  {
   "cell_type": "markdown",
   "metadata": {},
   "source": [
    "### Описанние метода и полученных параметров: \n",
    "\n",
    "Изначально мы считаем $beta$ с помощью аппроксимации линейной функции перебором по допустимому диапазону значений. \n",
    "Предположим, что $beta$ глобально различается на двух различных периодах, до введения карантина и после. \n",
    "\n",
    "Тогда есть два варианта аппроксимации $betа$ на втором периоде: \n",
    "\n",
    "1. Приближать $beta$ как ломанную линейную функцию методом аналогичным приближению линейной функции на первом периоде\n",
    "2. Приближать $beta$ как константу простым перебором по $beta$\n",
    "\n",
    "Итого при параметрах функции a = -0.015970000000000043 b = 1.3989999999999947 на первом периоде, на втором периоде получаются следующие значения параметров:\n",
    "\n",
    "1. При error = 115904409.57549664, a = -0.010000000000000092 b = 1.054999999999994 /Нужно точнее подобрать, очень большая ошибка\n",
    "2. При error = 71569223.85513526, c = 0.4588999999999658"
   ]
  },
  {
   "cell_type": "code",
   "execution_count": 75,
   "metadata": {},
   "outputs": [
    {
     "data": {
      "image/png": "[encoded data removed]",
      "text/plain": [
       "<Figure size 720x576 with 1 Axes>"
      ]
     },
     "metadata": {
      "needs_background": "light"
     },
     "output_type": "display_data"
    }
   ],
   "source": [
    "plt.ion()\n",
    "plt.rcParams['figure.figsize'] = 10, 8\n",
    "\n",
    "y0 = [N - 1, 0, 1, 0, 0, 0, 0, 0]\n",
    "forecast_linear = list()\n",
    "forecast_const = list()\n",
    "\n",
    "for i in range(55):\n",
    "    xi = 3\n",
    "    beta = -0.015970000000000043 * i +  1.3989999999999947\n",
    "    f2 = partial(f, beta=beta, rho=0.5)\n",
    "    t = np.linspace(i, i + 1, 70)\n",
    "    soln = odeint(f2, y0, t)\n",
    "    X = soln[:, 0]\n",
    "    V = soln[:, 1]\n",
    "    Q = soln[:, 2]\n",
    "    W = soln[:, 3]\n",
    "    Y = soln[:, 4]\n",
    "    U = soln[:, 5]\n",
    "    Z = soln[:, 6]\n",
    "    D = soln[:, 7]\n",
    "    y0 = [X[69], V[69], Q[69], W[69], Y[69], U[69], Z[69], D[69]]\n",
    "    plt.scatter(i, cases[i], color='red')\n",
    "    plt.scatter(i, W[69] + Y[69] + U[69] + Z[69], color='blue')\n",
    "\n",
    "\n",
    "for i in range(55, len(cases) + 15):\n",
    "    xi = 3\n",
    "    beta = -0.010000000000000092 * i + 1.054999999999994 \n",
    "    f2 = partial(f, beta=beta, rho=0.5)\n",
    "    t = np.linspace(i, i + 1, 70)\n",
    "    soln = odeint(f2, y0, t)\n",
    "    X = soln[:, 0]\n",
    "    V = soln[:, 1]\n",
    "    Q = soln[:, 2]\n",
    "    W = soln[:, 3]\n",
    "    Y = soln[:, 4]\n",
    "    U = soln[:, 5]\n",
    "    Z = soln[:, 6]\n",
    "    D = soln[:, 7]\n",
    "    y0 = [X[69], V[69], Q[69], W[69], Y[69], U[69], Z[69], D[69]]\n",
    "    if i < 70:\n",
    "        plt.scatter(i, cases[i], color='red')\n",
    "        plt.scatter(i, W[69] + Y[69] + U[69] + Z[69], color='blue')\n",
    "    else:\n",
    "        forecast_linear.append(W[69] + Y[69] + U[69] + Z[69])\n",
    "\n",
    "\n",
    "y0 = y_55\n",
    "\n",
    "for i in range(55, len(cases) + 15):\n",
    "    xi = 3\n",
    "    beta = 0.4588999999999658\n",
    "    f2 = partial(f, beta=beta, rho=0.5)\n",
    "    t = np.linspace(i, i + 1, 70)\n",
    "    soln = odeint(f2, y0, t)\n",
    "    X = soln[:, 0]\n",
    "    V = soln[:, 1]\n",
    "    Q = soln[:, 2]\n",
    "    W = soln[:, 3]\n",
    "    Y = soln[:, 4]\n",
    "    U = soln[:, 5]\n",
    "    Z = soln[:, 6]\n",
    "    D = soln[:, 7]\n",
    "    y0 = [X[69], V[69], Q[69], W[69], Y[69], U[69], Z[69], D[69]]\n",
    "    if i < 70:\n",
    "        plt.scatter(i, cases[i], color='red')\n",
    "        plt.scatter(i, W[69] + Y[69] + U[69] + Z[69], color='green')\n",
    "    else:\n",
    "        forecast_const.append(W[69] + Y[69] + U[69] + Z[69])\n",
    "\n",
    "plt.show()"
   ]
  },
  {
   "cell_type": "code",
   "execution_count": 76,
   "metadata": {},
   "outputs": [
    {
     "name": "stdout",
     "output_type": "stream",
     "text": [
      "Сравнение прогнозов при ломанной линейной бета на втором периоде:\n",
      "[79202.1380595156, 83601.03014011246, 88032.40658249035, 92480.57018158927, 96929.4507239717, 101362.77012411154, 105764.21436411754, 110117.60935747225, 114407.0977027626, 118617.31320427006, 122733.5500186009, 126741.92334353138, 130629.51869766592, 134384.5270456485, 137996.36346844808, 141455.76659833142, 144754.87798887605, 147887.29960525947, 150848.1286790756]\n",
      "[80115, 85973, 92676, 98522]\n"
     ]
    }
   ],
   "source": [
    "print(\"Сравнение прогнозов при ломанной линейной бета на втором периоде:\")\n",
    "print(forecast_linear)\n",
    "print(cases[70:])"
   ]
  },
  {
   "cell_type": "code",
   "execution_count": 77,
   "metadata": {},
   "outputs": [
    {
     "name": "stdout",
     "output_type": "stream",
     "text": [
      "Сравнение прогнозов при константной бета на втором периоде:\n",
      "[79294.64771635957, 84256.01622412543, 89427.72877704784, 94818.33892860537, 100436.70728749648, 106292.00893618315, 112393.74093370393, 118751.72976121292, 125376.1386252717, 132277.47455743712, 139466.59524075172, 146954.7154985678, 154753.41338014803, 162874.63577493053, 171330.7034838117, 180134.315671588, 189298.5536200266, 198836.8836960072, 208763.15944392083]\n",
      "[80115, 85973, 92676, 98522]\n"
     ]
    }
   ],
   "source": [
    "print(\"Сравнение прогнозов при константной бета на втором периоде:\")\n",
    "print(forecast_const)\n",
    "print(cases[70:])"
   ]
  },
  {
   "cell_type": "code",
   "execution_count": null,
   "metadata": {},
   "outputs": [],
   "source": []
  }
 ],
 "metadata": {
  "kernelspec": {
   "display_name": "Python 3",
   "language": "python",
   "name": "python3"
  },
  "language_info": {
   "codemirror_mode": {
    "name": "ipython",
    "version": 3
   },
   "file_extension": ".py",
   "mimetype": "text/x-python",
   "name": "python",
   "nbconvert_exporter": "python",
   "pygments_lexer": "ipython3",
   "version": "3.8.2"
  }
 },
 "nbformat": 4,
 "nbformat_minor": 4
}
